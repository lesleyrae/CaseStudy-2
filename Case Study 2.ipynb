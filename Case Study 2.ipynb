{
 "cells": [
  {
   "cell_type": "markdown",
   "id": "7e503583",
   "metadata": {},
   "source": [
    "## Data import "
   ]
  },
  {
   "cell_type": "code",
   "execution_count": 1,
   "id": "1e649c8a",
   "metadata": {},
   "outputs": [],
   "source": [
    "import pandas as pd\n",
    "import numpy as np\n",
    "import matplotlib.pyplot as plt\n",
    "import seaborn as sns\n",
    "import sqlite3\n",
    "%matplotlib inline"
   ]
  },
  {
   "cell_type": "code",
   "execution_count": 2,
   "id": "ea6f3d75",
   "metadata": {},
   "outputs": [],
   "source": [
    "data=pd.read_csv('casestudy.csv')"
   ]
  },
  {
   "cell_type": "code",
   "execution_count": 3,
   "id": "b07e41bf",
   "metadata": {},
   "outputs": [
    {
     "data": {
      "text/html": [
       "<div>\n",
       "<style scoped>\n",
       "    .dataframe tbody tr th:only-of-type {\n",
       "        vertical-align: middle;\n",
       "    }\n",
       "\n",
       "    .dataframe tbody tr th {\n",
       "        vertical-align: top;\n",
       "    }\n",
       "\n",
       "    .dataframe thead th {\n",
       "        text-align: right;\n",
       "    }\n",
       "</style>\n",
       "<table border=\"1\" class=\"dataframe\">\n",
       "  <thead>\n",
       "    <tr style=\"text-align: right;\">\n",
       "      <th></th>\n",
       "      <th>Unnamed: 0</th>\n",
       "      <th>customer_email</th>\n",
       "      <th>net_revenue</th>\n",
       "      <th>year</th>\n",
       "    </tr>\n",
       "  </thead>\n",
       "  <tbody>\n",
       "    <tr>\n",
       "      <th>0</th>\n",
       "      <td>0</td>\n",
       "      <td>nhknapwsbx@gmail.com</td>\n",
       "      <td>249.92</td>\n",
       "      <td>2015</td>\n",
       "    </tr>\n",
       "    <tr>\n",
       "      <th>1</th>\n",
       "      <td>1</td>\n",
       "      <td>joiuzbvcpn@gmail.com</td>\n",
       "      <td>87.61</td>\n",
       "      <td>2015</td>\n",
       "    </tr>\n",
       "    <tr>\n",
       "      <th>2</th>\n",
       "      <td>2</td>\n",
       "      <td>ukkjctepxt@gmail.com</td>\n",
       "      <td>168.38</td>\n",
       "      <td>2015</td>\n",
       "    </tr>\n",
       "    <tr>\n",
       "      <th>3</th>\n",
       "      <td>3</td>\n",
       "      <td>gykatilzrt@gmail.com</td>\n",
       "      <td>62.40</td>\n",
       "      <td>2015</td>\n",
       "    </tr>\n",
       "    <tr>\n",
       "      <th>4</th>\n",
       "      <td>4</td>\n",
       "      <td>mmsgsrtxah@gmail.com</td>\n",
       "      <td>43.08</td>\n",
       "      <td>2015</td>\n",
       "    </tr>\n",
       "    <tr>\n",
       "      <th>...</th>\n",
       "      <td>...</td>\n",
       "      <td>...</td>\n",
       "      <td>...</td>\n",
       "      <td>...</td>\n",
       "    </tr>\n",
       "    <tr>\n",
       "      <th>685922</th>\n",
       "      <td>685922</td>\n",
       "      <td>qzqttwiftu@gmail.com</td>\n",
       "      <td>184.58</td>\n",
       "      <td>2017</td>\n",
       "    </tr>\n",
       "    <tr>\n",
       "      <th>685923</th>\n",
       "      <td>685923</td>\n",
       "      <td>pjodiifjop@gmail.com</td>\n",
       "      <td>133.03</td>\n",
       "      <td>2017</td>\n",
       "    </tr>\n",
       "    <tr>\n",
       "      <th>685924</th>\n",
       "      <td>685924</td>\n",
       "      <td>appaplmgko@gmail.com</td>\n",
       "      <td>200.98</td>\n",
       "      <td>2017</td>\n",
       "    </tr>\n",
       "    <tr>\n",
       "      <th>685925</th>\n",
       "      <td>685925</td>\n",
       "      <td>wvkpmwsgck@gmail.com</td>\n",
       "      <td>235.35</td>\n",
       "      <td>2017</td>\n",
       "    </tr>\n",
       "    <tr>\n",
       "      <th>685926</th>\n",
       "      <td>685926</td>\n",
       "      <td>aregboumbw@gmail.com</td>\n",
       "      <td>208.43</td>\n",
       "      <td>2017</td>\n",
       "    </tr>\n",
       "  </tbody>\n",
       "</table>\n",
       "<p>685927 rows × 4 columns</p>\n",
       "</div>"
      ],
      "text/plain": [
       "        Unnamed: 0         customer_email  net_revenue  year\n",
       "0                0   nhknapwsbx@gmail.com       249.92  2015\n",
       "1                1   joiuzbvcpn@gmail.com        87.61  2015\n",
       "2                2   ukkjctepxt@gmail.com       168.38  2015\n",
       "3                3   gykatilzrt@gmail.com        62.40  2015\n",
       "4                4   mmsgsrtxah@gmail.com        43.08  2015\n",
       "...            ...                    ...          ...   ...\n",
       "685922      685922   qzqttwiftu@gmail.com       184.58  2017\n",
       "685923      685923   pjodiifjop@gmail.com       133.03  2017\n",
       "685924      685924   appaplmgko@gmail.com       200.98  2017\n",
       "685925      685925   wvkpmwsgck@gmail.com       235.35  2017\n",
       "685926      685926   aregboumbw@gmail.com       208.43  2017\n",
       "\n",
       "[685927 rows x 4 columns]"
      ]
     },
     "execution_count": 3,
     "metadata": {},
     "output_type": "execute_result"
    }
   ],
   "source": [
    "data"
   ]
  },
  {
   "cell_type": "code",
   "execution_count": 4,
   "id": "d210fc16",
   "metadata": {
    "scrolled": true
   },
   "outputs": [
    {
     "data": {
      "text/html": [
       "<div>\n",
       "<style scoped>\n",
       "    .dataframe tbody tr th:only-of-type {\n",
       "        vertical-align: middle;\n",
       "    }\n",
       "\n",
       "    .dataframe tbody tr th {\n",
       "        vertical-align: top;\n",
       "    }\n",
       "\n",
       "    .dataframe thead th {\n",
       "        text-align: right;\n",
       "    }\n",
       "</style>\n",
       "<table border=\"1\" class=\"dataframe\">\n",
       "  <thead>\n",
       "    <tr style=\"text-align: right;\">\n",
       "      <th></th>\n",
       "      <th>customer_email</th>\n",
       "      <th>year</th>\n",
       "    </tr>\n",
       "  </thead>\n",
       "  <tbody>\n",
       "    <tr>\n",
       "      <th>0</th>\n",
       "      <td>aaafxtkgxo@gmail.com</td>\n",
       "      <td>2016</td>\n",
       "    </tr>\n",
       "    <tr>\n",
       "      <th>1</th>\n",
       "      <td>aaagldjgdt@gmail.com</td>\n",
       "      <td>2015</td>\n",
       "    </tr>\n",
       "    <tr>\n",
       "      <th>2</th>\n",
       "      <td>aaaglfuvti@gmail.com</td>\n",
       "      <td>2016</td>\n",
       "    </tr>\n",
       "    <tr>\n",
       "      <th>3</th>\n",
       "      <td>aaaicvtnzx@gmail.com</td>\n",
       "      <td>2015</td>\n",
       "    </tr>\n",
       "    <tr>\n",
       "      <th>4</th>\n",
       "      <td>aaaiekepot@gmail.com</td>\n",
       "      <td>2017</td>\n",
       "    </tr>\n",
       "    <tr>\n",
       "      <th>...</th>\n",
       "      <td>...</td>\n",
       "      <td>...</td>\n",
       "    </tr>\n",
       "    <tr>\n",
       "      <th>604613</th>\n",
       "      <td>zzzoxtrfic@gmail.com</td>\n",
       "      <td>2017</td>\n",
       "    </tr>\n",
       "    <tr>\n",
       "      <th>604614</th>\n",
       "      <td>zzzrjsowtl@gmail.com</td>\n",
       "      <td>2015</td>\n",
       "    </tr>\n",
       "    <tr>\n",
       "      <th>604615</th>\n",
       "      <td>zzztwcvgvp@gmail.com</td>\n",
       "      <td>2015</td>\n",
       "    </tr>\n",
       "    <tr>\n",
       "      <th>604616</th>\n",
       "      <td>zzzwmlwwmn@gmail.com</td>\n",
       "      <td>2016</td>\n",
       "    </tr>\n",
       "    <tr>\n",
       "      <th>604617</th>\n",
       "      <td>zzzxxclrua@gmail.com</td>\n",
       "      <td>2015</td>\n",
       "    </tr>\n",
       "  </tbody>\n",
       "</table>\n",
       "<p>604618 rows × 2 columns</p>\n",
       "</div>"
      ],
      "text/plain": [
       "               customer_email  year\n",
       "0        aaafxtkgxo@gmail.com  2016\n",
       "1        aaagldjgdt@gmail.com  2015\n",
       "2        aaaglfuvti@gmail.com  2016\n",
       "3        aaaicvtnzx@gmail.com  2015\n",
       "4        aaaiekepot@gmail.com  2017\n",
       "...                       ...   ...\n",
       "604613   zzzoxtrfic@gmail.com  2017\n",
       "604614   zzzrjsowtl@gmail.com  2015\n",
       "604615   zzztwcvgvp@gmail.com  2015\n",
       "604616   zzzwmlwwmn@gmail.com  2016\n",
       "604617   zzzxxclrua@gmail.com  2015\n",
       "\n",
       "[604618 rows x 2 columns]"
      ]
     },
     "execution_count": 4,
     "metadata": {},
     "output_type": "execute_result"
    }
   ],
   "source": [
    "## find out each customer's register year\n",
    "min_year=data.groupby(by='customer_email').agg({'year':'min'})\n",
    "min_year=pd.DataFrame(min_year)\n",
    "min_year.reset_index()"
   ]
  },
  {
   "cell_type": "code",
   "execution_count": 5,
   "id": "41128ba8",
   "metadata": {},
   "outputs": [],
   "source": [
    "## create a table based on customers\n",
    "table=pd.pivot_table(data, values='net_revenue', index=['customer_email'],\n",
    "                    columns=['year'], aggfunc=np.sum)\n",
    "table=table.reset_index()\n",
    "## Connceting with the register year\n",
    "table_new=pd.merge(table,min_year,on='customer_email',how='left')"
   ]
  },
  {
   "cell_type": "code",
   "execution_count": 6,
   "id": "ac7889ee",
   "metadata": {},
   "outputs": [
    {
     "data": {
      "text/html": [
       "<div>\n",
       "<style scoped>\n",
       "    .dataframe tbody tr th:only-of-type {\n",
       "        vertical-align: middle;\n",
       "    }\n",
       "\n",
       "    .dataframe tbody tr th {\n",
       "        vertical-align: top;\n",
       "    }\n",
       "\n",
       "    .dataframe thead th {\n",
       "        text-align: right;\n",
       "    }\n",
       "</style>\n",
       "<table border=\"1\" class=\"dataframe\">\n",
       "  <thead>\n",
       "    <tr style=\"text-align: right;\">\n",
       "      <th></th>\n",
       "      <th>customer_email</th>\n",
       "      <th>2015</th>\n",
       "      <th>2016</th>\n",
       "      <th>2017</th>\n",
       "      <th>year</th>\n",
       "    </tr>\n",
       "  </thead>\n",
       "  <tbody>\n",
       "    <tr>\n",
       "      <th>0</th>\n",
       "      <td>aaafxtkgxo@gmail.com</td>\n",
       "      <td>NaN</td>\n",
       "      <td>127.62</td>\n",
       "      <td>NaN</td>\n",
       "      <td>2016</td>\n",
       "    </tr>\n",
       "    <tr>\n",
       "      <th>1</th>\n",
       "      <td>aaagldjgdt@gmail.com</td>\n",
       "      <td>44.72</td>\n",
       "      <td>NaN</td>\n",
       "      <td>NaN</td>\n",
       "      <td>2015</td>\n",
       "    </tr>\n",
       "    <tr>\n",
       "      <th>2</th>\n",
       "      <td>aaaglfuvti@gmail.com</td>\n",
       "      <td>NaN</td>\n",
       "      <td>160.79</td>\n",
       "      <td>NaN</td>\n",
       "      <td>2016</td>\n",
       "    </tr>\n",
       "    <tr>\n",
       "      <th>3</th>\n",
       "      <td>aaaicvtnzx@gmail.com</td>\n",
       "      <td>49.20</td>\n",
       "      <td>NaN</td>\n",
       "      <td>NaN</td>\n",
       "      <td>2015</td>\n",
       "    </tr>\n",
       "    <tr>\n",
       "      <th>4</th>\n",
       "      <td>aaaiekepot@gmail.com</td>\n",
       "      <td>NaN</td>\n",
       "      <td>NaN</td>\n",
       "      <td>43.68</td>\n",
       "      <td>2017</td>\n",
       "    </tr>\n",
       "    <tr>\n",
       "      <th>...</th>\n",
       "      <td>...</td>\n",
       "      <td>...</td>\n",
       "      <td>...</td>\n",
       "      <td>...</td>\n",
       "      <td>...</td>\n",
       "    </tr>\n",
       "    <tr>\n",
       "      <th>604613</th>\n",
       "      <td>zzzoxtrfic@gmail.com</td>\n",
       "      <td>NaN</td>\n",
       "      <td>NaN</td>\n",
       "      <td>15.74</td>\n",
       "      <td>2017</td>\n",
       "    </tr>\n",
       "    <tr>\n",
       "      <th>604614</th>\n",
       "      <td>zzzrjsowtl@gmail.com</td>\n",
       "      <td>95.80</td>\n",
       "      <td>NaN</td>\n",
       "      <td>NaN</td>\n",
       "      <td>2015</td>\n",
       "    </tr>\n",
       "    <tr>\n",
       "      <th>604615</th>\n",
       "      <td>zzztwcvgvp@gmail.com</td>\n",
       "      <td>129.75</td>\n",
       "      <td>NaN</td>\n",
       "      <td>NaN</td>\n",
       "      <td>2015</td>\n",
       "    </tr>\n",
       "    <tr>\n",
       "      <th>604616</th>\n",
       "      <td>zzzwmlwwmn@gmail.com</td>\n",
       "      <td>NaN</td>\n",
       "      <td>98.01</td>\n",
       "      <td>NaN</td>\n",
       "      <td>2016</td>\n",
       "    </tr>\n",
       "    <tr>\n",
       "      <th>604617</th>\n",
       "      <td>zzzxxclrua@gmail.com</td>\n",
       "      <td>57.24</td>\n",
       "      <td>NaN</td>\n",
       "      <td>NaN</td>\n",
       "      <td>2015</td>\n",
       "    </tr>\n",
       "  </tbody>\n",
       "</table>\n",
       "<p>604618 rows × 5 columns</p>\n",
       "</div>"
      ],
      "text/plain": [
       "               customer_email    2015    2016   2017  year\n",
       "0        aaafxtkgxo@gmail.com     NaN  127.62    NaN  2016\n",
       "1        aaagldjgdt@gmail.com   44.72     NaN    NaN  2015\n",
       "2        aaaglfuvti@gmail.com     NaN  160.79    NaN  2016\n",
       "3        aaaicvtnzx@gmail.com   49.20     NaN    NaN  2015\n",
       "4        aaaiekepot@gmail.com     NaN     NaN  43.68  2017\n",
       "...                       ...     ...     ...    ...   ...\n",
       "604613   zzzoxtrfic@gmail.com     NaN     NaN  15.74  2017\n",
       "604614   zzzrjsowtl@gmail.com   95.80     NaN    NaN  2015\n",
       "604615   zzztwcvgvp@gmail.com  129.75     NaN    NaN  2015\n",
       "604616   zzzwmlwwmn@gmail.com     NaN   98.01    NaN  2016\n",
       "604617   zzzxxclrua@gmail.com   57.24     NaN    NaN  2015\n",
       "\n",
       "[604618 rows x 5 columns]"
      ]
     },
     "execution_count": 6,
     "metadata": {},
     "output_type": "execute_result"
    }
   ],
   "source": [
    "table_new"
   ]
  },
  {
   "cell_type": "code",
   "execution_count": 7,
   "id": "15d3e96f",
   "metadata": {},
   "outputs": [],
   "source": [
    "##fillna\n",
    "table_new=table_new.fillna(0)"
   ]
  },
  {
   "cell_type": "code",
   "execution_count": 8,
   "id": "2dab0e17",
   "metadata": {
    "scrolled": false
   },
   "outputs": [
    {
     "data": {
      "text/plain": [
       "Index(['customer_email', 2015, 2016, 2017, 'year'], dtype='object')"
      ]
     },
     "execution_count": 8,
     "metadata": {},
     "output_type": "execute_result"
    }
   ],
   "source": [
    "table_new.columns"
   ]
  },
  {
   "cell_type": "code",
   "execution_count": 12,
   "id": "9d57d167",
   "metadata": {},
   "outputs": [],
   "source": [
    "## for text adding\n",
    "def autolabel(rects):\n",
    "    \"\"\"\n",
    "    Attach a text label above each bar displaying its height\n",
    "    \"\"\"\n",
    "    for rect in rects:\n",
    "        height = rect.get_height()\n",
    "        ax.text(rect.get_x() + rect.get_width()/2., 1.*height,\n",
    "                '%d' % int(height),\n",
    "                ha='center', va='bottom')"
   ]
  },
  {
   "cell_type": "markdown",
   "id": "55c55b75",
   "metadata": {},
   "source": [
    "## Total revenues"
   ]
  },
  {
   "cell_type": "markdown",
   "id": "c63a9af2",
   "metadata": {},
   "source": [
    "### Total revenue for the current year"
   ]
  },
  {
   "cell_type": "code",
   "execution_count": 9,
   "id": "7bc32827",
   "metadata": {},
   "outputs": [],
   "source": [
    "revenue_year=data.groupby(by='year').agg({'net_revenue':'sum'})"
   ]
  },
  {
   "cell_type": "code",
   "execution_count": 10,
   "id": "6187d6fc",
   "metadata": {},
   "outputs": [],
   "source": [
    "revenue_year['net_revenue']=revenue_year['net_revenue'].round()"
   ]
  },
  {
   "cell_type": "code",
   "execution_count": 11,
   "id": "e6ef5205",
   "metadata": {
    "scrolled": true
   },
   "outputs": [
    {
     "data": {
      "text/html": [
       "<div>\n",
       "<style scoped>\n",
       "    .dataframe tbody tr th:only-of-type {\n",
       "        vertical-align: middle;\n",
       "    }\n",
       "\n",
       "    .dataframe tbody tr th {\n",
       "        vertical-align: top;\n",
       "    }\n",
       "\n",
       "    .dataframe thead th {\n",
       "        text-align: right;\n",
       "    }\n",
       "</style>\n",
       "<table border=\"1\" class=\"dataframe\">\n",
       "  <thead>\n",
       "    <tr style=\"text-align: right;\">\n",
       "      <th></th>\n",
       "      <th>net_revenue</th>\n",
       "    </tr>\n",
       "    <tr>\n",
       "      <th>year</th>\n",
       "      <th></th>\n",
       "    </tr>\n",
       "  </thead>\n",
       "  <tbody>\n",
       "    <tr>\n",
       "      <th>2015</th>\n",
       "      <td>29036749.0</td>\n",
       "    </tr>\n",
       "    <tr>\n",
       "      <th>2016</th>\n",
       "      <td>25730944.0</td>\n",
       "    </tr>\n",
       "    <tr>\n",
       "      <th>2017</th>\n",
       "      <td>31417495.0</td>\n",
       "    </tr>\n",
       "  </tbody>\n",
       "</table>\n",
       "</div>"
      ],
      "text/plain": [
       "      net_revenue\n",
       "year             \n",
       "2015   29036749.0\n",
       "2016   25730944.0\n",
       "2017   31417495.0"
      ]
     },
     "execution_count": 11,
     "metadata": {},
     "output_type": "execute_result"
    }
   ],
   "source": [
    "revenue_year"
   ]
  },
  {
   "cell_type": "code",
   "execution_count": 13,
   "id": "9f8f95a5",
   "metadata": {
    "scrolled": false
   },
   "outputs": [
    {
     "data": {
      "image/png": "[encoded data removed]",
      "text/plain": [
       "<Figure size 720x360 with 1 Axes>"
      ]
     },
     "metadata": {
      "needs_background": "light"
     },
     "output_type": "display_data"
    }
   ],
   "source": [
    "fig,ax = plt.subplots(figsize = (10, 5))\n",
    "x=['2015','2016','2017']\n",
    "my_cmap = plt.get_cmap(\"viridis\")\n",
    "rect0=ax.bar(x,revenue_year['net_revenue'],color=my_cmap.colors)\n",
    "autolabel(rect0)\n",
    "plt.xlabel(\"Year\")\n",
    "plt.ylabel(\"Total Revenues\")\n",
    "plt.title(\"Total Revenues for the current year\")\n",
    "plt.show()"
   ]
  },
  {
   "cell_type": "markdown",
   "id": "1822c571",
   "metadata": {},
   "source": [
    "### Total customers for the current year"
   ]
  },
  {
   "cell_type": "code",
   "execution_count": 33,
   "id": "64f34e00",
   "metadata": {},
   "outputs": [
    {
     "data": {
      "image/png": "[encoded data removed]",
      "text/plain": [
       "<Figure size 720x360 with 1 Axes>"
      ]
     },
     "metadata": {
      "needs_background": "light"
     },
     "output_type": "display_data"
    }
   ],
   "source": [
    "users_number=data.groupby(by='year').agg({'customer_email':'count'})\n",
    "fig,ax = plt.subplots(figsize = (10, 5))\n",
    "x=['2015','2016','2017']\n",
    "rect1=ax.bar(x,users_number['customer_email'])\n",
    "autolabel(rect1)\n",
    "plt.xlabel(\"Year\")\n",
    "plt.ylabel(\"Total Users\")\n",
    "plt.title(\"Total Users for the current year\")\n",
    "plt.show()"
   ]
  },
  {
   "cell_type": "code",
   "execution_count": 102,
   "id": "e65efc7d",
   "metadata": {
    "scrolled": true
   },
   "outputs": [
    {
     "data": {
      "text/html": [
       "<div>\n",
       "<style scoped>\n",
       "    .dataframe tbody tr th:only-of-type {\n",
       "        vertical-align: middle;\n",
       "    }\n",
       "\n",
       "    .dataframe tbody tr th {\n",
       "        vertical-align: top;\n",
       "    }\n",
       "\n",
       "    .dataframe thead th {\n",
       "        text-align: right;\n",
       "    }\n",
       "</style>\n",
       "<table border=\"1\" class=\"dataframe\">\n",
       "  <thead>\n",
       "    <tr style=\"text-align: right;\">\n",
       "      <th></th>\n",
       "      <th>customer_email</th>\n",
       "      <th>2015</th>\n",
       "      <th>2016</th>\n",
       "      <th>2017</th>\n",
       "      <th>year</th>\n",
       "    </tr>\n",
       "  </thead>\n",
       "  <tbody>\n",
       "    <tr>\n",
       "      <th>0</th>\n",
       "      <td>aaafxtkgxo@gmail.com</td>\n",
       "      <td>0.00</td>\n",
       "      <td>127.62</td>\n",
       "      <td>0.00</td>\n",
       "      <td>2016</td>\n",
       "    </tr>\n",
       "    <tr>\n",
       "      <th>1</th>\n",
       "      <td>aaagldjgdt@gmail.com</td>\n",
       "      <td>44.72</td>\n",
       "      <td>0.00</td>\n",
       "      <td>0.00</td>\n",
       "      <td>2015</td>\n",
       "    </tr>\n",
       "    <tr>\n",
       "      <th>2</th>\n",
       "      <td>aaaglfuvti@gmail.com</td>\n",
       "      <td>0.00</td>\n",
       "      <td>160.79</td>\n",
       "      <td>0.00</td>\n",
       "      <td>2016</td>\n",
       "    </tr>\n",
       "    <tr>\n",
       "      <th>3</th>\n",
       "      <td>aaaicvtnzx@gmail.com</td>\n",
       "      <td>49.20</td>\n",
       "      <td>0.00</td>\n",
       "      <td>0.00</td>\n",
       "      <td>2015</td>\n",
       "    </tr>\n",
       "    <tr>\n",
       "      <th>4</th>\n",
       "      <td>aaaiekepot@gmail.com</td>\n",
       "      <td>0.00</td>\n",
       "      <td>0.00</td>\n",
       "      <td>43.68</td>\n",
       "      <td>2017</td>\n",
       "    </tr>\n",
       "    <tr>\n",
       "      <th>...</th>\n",
       "      <td>...</td>\n",
       "      <td>...</td>\n",
       "      <td>...</td>\n",
       "      <td>...</td>\n",
       "      <td>...</td>\n",
       "    </tr>\n",
       "    <tr>\n",
       "      <th>604613</th>\n",
       "      <td>zzzoxtrfic@gmail.com</td>\n",
       "      <td>0.00</td>\n",
       "      <td>0.00</td>\n",
       "      <td>15.74</td>\n",
       "      <td>2017</td>\n",
       "    </tr>\n",
       "    <tr>\n",
       "      <th>604614</th>\n",
       "      <td>zzzrjsowtl@gmail.com</td>\n",
       "      <td>95.80</td>\n",
       "      <td>0.00</td>\n",
       "      <td>0.00</td>\n",
       "      <td>2015</td>\n",
       "    </tr>\n",
       "    <tr>\n",
       "      <th>604615</th>\n",
       "      <td>zzztwcvgvp@gmail.com</td>\n",
       "      <td>129.75</td>\n",
       "      <td>0.00</td>\n",
       "      <td>0.00</td>\n",
       "      <td>2015</td>\n",
       "    </tr>\n",
       "    <tr>\n",
       "      <th>604616</th>\n",
       "      <td>zzzwmlwwmn@gmail.com</td>\n",
       "      <td>0.00</td>\n",
       "      <td>98.01</td>\n",
       "      <td>0.00</td>\n",
       "      <td>2016</td>\n",
       "    </tr>\n",
       "    <tr>\n",
       "      <th>604617</th>\n",
       "      <td>zzzxxclrua@gmail.com</td>\n",
       "      <td>57.24</td>\n",
       "      <td>0.00</td>\n",
       "      <td>0.00</td>\n",
       "      <td>2015</td>\n",
       "    </tr>\n",
       "  </tbody>\n",
       "</table>\n",
       "<p>604618 rows × 5 columns</p>\n",
       "</div>"
      ],
      "text/plain": [
       "               customer_email    2015    2016   2017  year\n",
       "0        aaafxtkgxo@gmail.com    0.00  127.62   0.00  2016\n",
       "1        aaagldjgdt@gmail.com   44.72    0.00   0.00  2015\n",
       "2        aaaglfuvti@gmail.com    0.00  160.79   0.00  2016\n",
       "3        aaaicvtnzx@gmail.com   49.20    0.00   0.00  2015\n",
       "4        aaaiekepot@gmail.com    0.00    0.00  43.68  2017\n",
       "...                       ...     ...     ...    ...   ...\n",
       "604613   zzzoxtrfic@gmail.com    0.00    0.00  15.74  2017\n",
       "604614   zzzrjsowtl@gmail.com   95.80    0.00   0.00  2015\n",
       "604615   zzztwcvgvp@gmail.com  129.75    0.00   0.00  2015\n",
       "604616   zzzwmlwwmn@gmail.com    0.00   98.01   0.00  2016\n",
       "604617   zzzxxclrua@gmail.com   57.24    0.00   0.00  2015\n",
       "\n",
       "[604618 rows x 5 columns]"
      ]
     },
     "execution_count": 102,
     "metadata": {},
     "output_type": "execute_result"
    }
   ],
   "source": [
    "table_new"
   ]
  },
  {
   "cell_type": "markdown",
   "id": "1ebd693e",
   "metadata": {},
   "source": [
    "## New customers"
   ]
  },
  {
   "cell_type": "markdown",
   "id": "85995f3e",
   "metadata": {},
   "source": [
    "### New customer numbers"
   ]
  },
  {
   "cell_type": "code",
   "execution_count": 16,
   "id": "8ec61646",
   "metadata": {},
   "outputs": [],
   "source": [
    "revenues=[]\n",
    "number=[]\n",
    "for i in range(2015,2018):\n",
    "    new=table_new[table_new['year']==i][i]\n",
    "    r=new.sum().round()\n",
    "    n=new.count()\n",
    "    revenues.append(r)\n",
    "    number.append(n)"
   ]
  },
  {
   "cell_type": "code",
   "execution_count": 94,
   "id": "11535ae3",
   "metadata": {},
   "outputs": [
    {
     "data": {
      "text/plain": [
       "[231294, 145062, 228262]"
      ]
     },
     "execution_count": 94,
     "metadata": {},
     "output_type": "execute_result"
    }
   ],
   "source": [
    "number"
   ]
  },
  {
   "cell_type": "code",
   "execution_count": 18,
   "id": "e1e568b4",
   "metadata": {
    "scrolled": true
   },
   "outputs": [
    {
     "name": "stderr",
     "output_type": "stream",
     "text": [
      "<ipython-input-18-6de03a6cfc43>:5: MatplotlibDeprecationWarning: Using a string of single character colors as a color sequence is deprecated since 3.2 and will be removed two minor releases later. Use an explicit list instead.\n",
      "  rect1=ax.bar(x,y,color=my_colors)\n"
     ]
    },
    {
     "data": {
      "image/png": "[encoded data removed]",
      "text/plain": [
       "<Figure size 720x360 with 1 Axes>"
      ]
     },
     "metadata": {
      "needs_background": "light"
     },
     "output_type": "display_data"
    }
   ],
   "source": [
    "x=['2015','2016','2017']\n",
    "my_colors = 'rgbkymc' \n",
    "y=number\n",
    "fig, ax= plt.subplots(figsize = (10, 5))\n",
    "rect1=ax.bar(x,y,color=my_colors)\n",
    "autolabel(rect1)\n",
    "plt.xlabel(\"Year\")\n",
    "plt.title(\"Number of new users over year\")\n",
    "plt.show()"
   ]
  },
  {
   "cell_type": "markdown",
   "id": "966a29dd",
   "metadata": {},
   "source": [
    "## New customer revenues"
   ]
  },
  {
   "cell_type": "code",
   "execution_count": 93,
   "id": "78c5e8bc",
   "metadata": {},
   "outputs": [
    {
     "data": {
      "text/plain": [
       "[29036749.0, 18245491.0, 28676608.0]"
      ]
     },
     "execution_count": 93,
     "metadata": {},
     "output_type": "execute_result"
    }
   ],
   "source": [
    "revenues"
   ]
  },
  {
   "cell_type": "code",
   "execution_count": 21,
   "id": "e36372d6",
   "metadata": {
    "scrolled": false
   },
   "outputs": [
    {
     "data": {
      "image/png": "[encoded data removed]",
      "text/plain": [
       "<Figure size 720x360 with 1 Axes>"
      ]
     },
     "metadata": {
      "needs_background": "light"
     },
     "output_type": "display_data"
    }
   ],
   "source": [
    "x=['2015','2016','2017']\n",
    "y=revenues\n",
    "fig, ax= plt.subplots(figsize = (10, 5))\n",
    "sns.color_palette()\n",
    "rect2=ax.bar(x,y)\n",
    "autolabel(rect2)\n",
    "plt.xlabel(\"Year\")\n",
    "plt.ylabel(\"Revenues of new users\")\n",
    "plt.title(\"Revenues of new users over year\")\n",
    "plt.show()"
   ]
  },
  {
   "cell_type": "code",
   "execution_count": 146,
   "id": "324f04fd",
   "metadata": {},
   "outputs": [],
   "source": [
    "revenue_total=revenue_year['net_revenue'].values.tolist()\n",
    "user_total=users_number['customer_email'].values.tolist()\n",
    "users_percent=[]\n",
    "revenue_percent=[]\n",
    "for i in range(3):\n",
    "    up=number[i]/user_total[i]*100\n",
    "    rp=revenues[i]/revenue_total[i]*100\n",
    "    users_percent.append(up)\n",
    "    revenue_percent.append(rp)"
   ]
  },
  {
   "cell_type": "code",
   "execution_count": 149,
   "id": "1059f31b",
   "metadata": {
    "scrolled": true
   },
   "outputs": [
    {
     "data": {
      "text/plain": [
       "[100.0, 70.8843564008092, 91.30954809650102]"
      ]
     },
     "execution_count": 149,
     "metadata": {},
     "output_type": "execute_result"
    }
   ],
   "source": [
    "users_percent"
   ]
  },
  {
   "cell_type": "code",
   "execution_count": 150,
   "id": "fbbee01d",
   "metadata": {},
   "outputs": [
    {
     "data": {
      "text/plain": [
       "[100.0, 70.90875095760187, 91.27592126616078]"
      ]
     },
     "execution_count": 150,
     "metadata": {},
     "output_type": "execute_result"
    }
   ],
   "source": [
    "revenue_percent"
   ]
  },
  {
   "cell_type": "markdown",
   "id": "d1291a56",
   "metadata": {},
   "source": [
    "## Revenues per new customers "
   ]
  },
  {
   "cell_type": "code",
   "execution_count": 22,
   "id": "e4a67f7c",
   "metadata": {},
   "outputs": [
    {
     "data": {
      "image/png": "[encoded data removed]",
      "text/plain": [
       "<Figure size 720x360 with 1 Axes>"
      ]
     },
     "metadata": {
      "needs_background": "light"
     },
     "output_type": "display_data"
    }
   ],
   "source": [
    "x=['2015','2016','2017']\n",
    "revenue_per_user=[]\n",
    "for i in range(0,3):\n",
    "    r_i=revenues[i]/number[i]\n",
    "    revenue_per_user.append(r_i)\n",
    "fig, ax= plt.subplots(figsize = (10, 5))\n",
    "rect2=ax.bar(x,revenue_per_user)\n",
    "autolabel(rect2)\n",
    "plt.xlabel(\"Year\")\n",
    "plt.ylabel(\"Revenues per new user\")\n",
    "plt.title(\"Revenues per new user over year\")\n",
    "plt.show()"
   ]
  },
  {
   "cell_type": "markdown",
   "id": "10724a38",
   "metadata": {},
   "source": [
    "It seems that revenues per doesn't change much"
   ]
  },
  {
   "cell_type": "markdown",
   "id": "ea05e761",
   "metadata": {},
   "source": [
    "## Existing Customer"
   ]
  },
  {
   "cell_type": "code",
   "execution_count": 23,
   "id": "d6cacbc4",
   "metadata": {},
   "outputs": [],
   "source": [
    "exist_revenue=[0]"
   ]
  },
  {
   "cell_type": "code",
   "execution_count": 24,
   "id": "99439c9c",
   "metadata": {},
   "outputs": [],
   "source": [
    "## 2016 Existing customers\n",
    "Year2016_existing=table_new[(table_new[2016]!=0)&(table_new[2015]!=0)]"
   ]
  },
  {
   "cell_type": "code",
   "execution_count": 25,
   "id": "ded02977",
   "metadata": {
    "scrolled": true
   },
   "outputs": [],
   "source": [
    "exist_revenue.append(Year2016_existing[2015].sum())"
   ]
  },
  {
   "cell_type": "code",
   "execution_count": 28,
   "id": "52594ae8",
   "metadata": {
    "scrolled": true
   },
   "outputs": [],
   "source": [
    "## 2017 Existing customers\n",
    "Year2017=table_new[table_new[2017]!=0]\n",
    "exist_revenue.append(Year2017[2015].sum()+Year2017[2016].sum())"
   ]
  },
  {
   "cell_type": "code",
   "execution_count": 29,
   "id": "f48d6a7b",
   "metadata": {
    "scrolled": true
   },
   "outputs": [
    {
     "data": {
      "text/plain": [
       "[0, 7465117.12, 3489142.3]"
      ]
     },
     "execution_count": 29,
     "metadata": {},
     "output_type": "execute_result"
    }
   ],
   "source": [
    "exist_revenue"
   ]
  },
  {
   "cell_type": "code",
   "execution_count": 96,
   "id": "375602a4",
   "metadata": {},
   "outputs": [],
   "source": [
    "users_number['new_users']=number"
   ]
  },
  {
   "cell_type": "code",
   "execution_count": 100,
   "id": "1940ca0f",
   "metadata": {},
   "outputs": [],
   "source": [
    "users_number['existing_number']=users_number['customer_email']-users_number['new_users']"
   ]
  },
  {
   "cell_type": "code",
   "execution_count": 107,
   "id": "8c7d2e30",
   "metadata": {},
   "outputs": [
    {
     "data": {
      "text/html": [
       "<div>\n",
       "<style scoped>\n",
       "    .dataframe tbody tr th:only-of-type {\n",
       "        vertical-align: middle;\n",
       "    }\n",
       "\n",
       "    .dataframe tbody tr th {\n",
       "        vertical-align: top;\n",
       "    }\n",
       "\n",
       "    .dataframe thead th {\n",
       "        text-align: right;\n",
       "    }\n",
       "</style>\n",
       "<table border=\"1\" class=\"dataframe\">\n",
       "  <thead>\n",
       "    <tr style=\"text-align: right;\">\n",
       "      <th></th>\n",
       "      <th>customer_email</th>\n",
       "      <th>new_users</th>\n",
       "      <th>existing_number</th>\n",
       "    </tr>\n",
       "    <tr>\n",
       "      <th>year</th>\n",
       "      <th></th>\n",
       "      <th></th>\n",
       "      <th></th>\n",
       "    </tr>\n",
       "  </thead>\n",
       "  <tbody>\n",
       "    <tr>\n",
       "      <th>2015</th>\n",
       "      <td>231294</td>\n",
       "      <td>231294</td>\n",
       "      <td>0</td>\n",
       "    </tr>\n",
       "    <tr>\n",
       "      <th>2016</th>\n",
       "      <td>204646</td>\n",
       "      <td>145062</td>\n",
       "      <td>59584</td>\n",
       "    </tr>\n",
       "    <tr>\n",
       "      <th>2017</th>\n",
       "      <td>249987</td>\n",
       "      <td>228262</td>\n",
       "      <td>21725</td>\n",
       "    </tr>\n",
       "  </tbody>\n",
       "</table>\n",
       "</div>"
      ],
      "text/plain": [
       "      customer_email  new_users  existing_number\n",
       "year                                            \n",
       "2015          231294     231294                0\n",
       "2016          204646     145062            59584\n",
       "2017          249987     228262            21725"
      ]
     },
     "execution_count": 107,
     "metadata": {},
     "output_type": "execute_result"
    }
   ],
   "source": [
    "users_number"
   ]
  },
  {
   "cell_type": "code",
   "execution_count": 113,
   "id": "5e14f05b",
   "metadata": {},
   "outputs": [
    {
     "data": {
      "text/plain": [
       "[0, 59584, 21725]"
      ]
     },
     "execution_count": 113,
     "metadata": {},
     "output_type": "execute_result"
    }
   ],
   "source": [
    "existing_u=users_number['existing_number'].values.tolist()\n",
    "existing_u"
   ]
  },
  {
   "cell_type": "code",
   "execution_count": 127,
   "id": "aad2e381",
   "metadata": {},
   "outputs": [],
   "source": [
    "year=['2015','2016','2017']\n",
    "current_r=revenue_year['net_revenue'].values.tolist()\n",
    "growth=pd.DataFrame([exist_revenue,current_r,existing_u,year])\n",
    "growth=growth.T"
   ]
  },
  {
   "cell_type": "code",
   "execution_count": 128,
   "id": "6d42e748",
   "metadata": {},
   "outputs": [
    {
     "data": {
      "text/html": [
       "<div>\n",
       "<style scoped>\n",
       "    .dataframe tbody tr th:only-of-type {\n",
       "        vertical-align: middle;\n",
       "    }\n",
       "\n",
       "    .dataframe tbody tr th {\n",
       "        vertical-align: top;\n",
       "    }\n",
       "\n",
       "    .dataframe thead th {\n",
       "        text-align: right;\n",
       "    }\n",
       "</style>\n",
       "<table border=\"1\" class=\"dataframe\">\n",
       "  <thead>\n",
       "    <tr style=\"text-align: right;\">\n",
       "      <th></th>\n",
       "      <th>0</th>\n",
       "      <th>1</th>\n",
       "      <th>2</th>\n",
       "      <th>3</th>\n",
       "    </tr>\n",
       "  </thead>\n",
       "  <tbody>\n",
       "    <tr>\n",
       "      <th>0</th>\n",
       "      <td>0</td>\n",
       "      <td>29036749.0</td>\n",
       "      <td>0</td>\n",
       "      <td>2015</td>\n",
       "    </tr>\n",
       "    <tr>\n",
       "      <th>1</th>\n",
       "      <td>7465117.12</td>\n",
       "      <td>25730944.0</td>\n",
       "      <td>59584</td>\n",
       "      <td>2016</td>\n",
       "    </tr>\n",
       "    <tr>\n",
       "      <th>2</th>\n",
       "      <td>3489142.3</td>\n",
       "      <td>31417495.0</td>\n",
       "      <td>21725</td>\n",
       "      <td>2017</td>\n",
       "    </tr>\n",
       "  </tbody>\n",
       "</table>\n",
       "</div>"
      ],
      "text/plain": [
       "            0           1      2     3\n",
       "0           0  29036749.0      0  2015\n",
       "1  7465117.12  25730944.0  59584  2016\n",
       "2   3489142.3  31417495.0  21725  2017"
      ]
     },
     "execution_count": 128,
     "metadata": {},
     "output_type": "execute_result"
    }
   ],
   "source": [
    "growth"
   ]
  },
  {
   "cell_type": "code",
   "execution_count": 129,
   "id": "c3515acb",
   "metadata": {},
   "outputs": [],
   "source": [
    "growth=growth.rename(columns={0:'exist_revenue',1:'current_revenues',2:'existing_u',3:'year'})\n",
    "growth=growth.set_index('year')"
   ]
  },
  {
   "cell_type": "code",
   "execution_count": 130,
   "id": "205382ee",
   "metadata": {
    "scrolled": true
   },
   "outputs": [],
   "source": [
    "growth['growth']=growth['current_revenues']-growth['exist_revenue']"
   ]
  },
  {
   "cell_type": "code",
   "execution_count": 131,
   "id": "256063c5",
   "metadata": {},
   "outputs": [
    {
     "data": {
      "text/html": [
       "<div>\n",
       "<style scoped>\n",
       "    .dataframe tbody tr th:only-of-type {\n",
       "        vertical-align: middle;\n",
       "    }\n",
       "\n",
       "    .dataframe tbody tr th {\n",
       "        vertical-align: top;\n",
       "    }\n",
       "\n",
       "    .dataframe thead th {\n",
       "        text-align: right;\n",
       "    }\n",
       "</style>\n",
       "<table border=\"1\" class=\"dataframe\">\n",
       "  <thead>\n",
       "    <tr style=\"text-align: right;\">\n",
       "      <th></th>\n",
       "      <th>exist_revenue</th>\n",
       "      <th>current_revenues</th>\n",
       "      <th>existing_u</th>\n",
       "      <th>growth</th>\n",
       "    </tr>\n",
       "    <tr>\n",
       "      <th>year</th>\n",
       "      <th></th>\n",
       "      <th></th>\n",
       "      <th></th>\n",
       "      <th></th>\n",
       "    </tr>\n",
       "  </thead>\n",
       "  <tbody>\n",
       "    <tr>\n",
       "      <th>2015</th>\n",
       "      <td>0</td>\n",
       "      <td>29036749.0</td>\n",
       "      <td>0</td>\n",
       "      <td>29036749.0</td>\n",
       "    </tr>\n",
       "    <tr>\n",
       "      <th>2016</th>\n",
       "      <td>7465117.12</td>\n",
       "      <td>25730944.0</td>\n",
       "      <td>59584</td>\n",
       "      <td>18265826.88</td>\n",
       "    </tr>\n",
       "    <tr>\n",
       "      <th>2017</th>\n",
       "      <td>3489142.3</td>\n",
       "      <td>31417495.0</td>\n",
       "      <td>21725</td>\n",
       "      <td>27928352.7</td>\n",
       "    </tr>\n",
       "  </tbody>\n",
       "</table>\n",
       "</div>"
      ],
      "text/plain": [
       "     exist_revenue current_revenues existing_u       growth\n",
       "year                                                       \n",
       "2015             0       29036749.0          0   29036749.0\n",
       "2016    7465117.12       25730944.0      59584  18265826.88\n",
       "2017     3489142.3       31417495.0      21725   27928352.7"
      ]
     },
     "execution_count": 131,
     "metadata": {},
     "output_type": "execute_result"
    }
   ],
   "source": [
    "growth"
   ]
  },
  {
   "cell_type": "code",
   "execution_count": 45,
   "id": "30eb99db",
   "metadata": {},
   "outputs": [
    {
     "data": {
      "image/png": "[encoded data removed]",
      "text/plain": [
       "<Figure size 720x360 with 1 Axes>"
      ]
     },
     "metadata": {
      "needs_background": "light"
     },
     "output_type": "display_data"
    }
   ],
   "source": [
    "x=['2015','2016','2017']\n",
    "y=growth_1['growth'].values.tolist()\n",
    "fig, ax= plt.subplots(figsize = (10, 5))\n",
    "rect3=ax.bar(x,y)\n",
    "autolabel(rect3)\n",
    "plt.xlabel(\"Year\")\n",
    "plt.title(\"Revenues of existing users growth\")\n",
    "plt.show()"
   ]
  },
  {
   "cell_type": "markdown",
   "id": "338aff9e",
   "metadata": {},
   "source": [
    "## Churn data"
   ]
  },
  {
   "cell_type": "markdown",
   "id": "afad4747",
   "metadata": {},
   "source": [
    "### Rentention"
   ]
  },
  {
   "cell_type": "code",
   "execution_count": 50,
   "id": "ed89eb13",
   "metadata": {},
   "outputs": [],
   "source": [
    "table_2015=table_new[table_new['year']==2015]\n",
    "y2015=[table_2015[2015].sum(),table_2015[2016].sum(),table_2015[2017].sum()]\n",
    "table_2016=table_new[table_new['year']==2016]\n",
    "y2016=[np.nan,table_2016[2016].sum(),table_2016[2017].sum()]"
   ]
  },
  {
   "cell_type": "code",
   "execution_count": 55,
   "id": "c27b4959",
   "metadata": {},
   "outputs": [
    {
     "data": {
      "text/plain": [
       "[231294, 59584, 6928]"
      ]
     },
     "execution_count": 55,
     "metadata": {},
     "output_type": "execute_result"
    }
   ],
   "source": [
    "n2015=[]\n",
    "n2015.append(tabel_2015['customer_email'][tabel_2015[2015]!=0].count())\n",
    "n2015.append(tabel_2015['customer_email'][(tabel_2015[2015]!=0)&(tabel_2015[2016]!=0)].count())\n",
    "n2015.append(tabel_2015['customer_email'][(tabel_2015[2015]!=0)&(tabel_2015[2017]!=0)].count())\n",
    "n2015"
   ]
  },
  {
   "cell_type": "code",
   "execution_count": 57,
   "id": "05000862",
   "metadata": {},
   "outputs": [
    {
     "data": {
      "text/plain": [
       "[0, 145062, 14797]"
      ]
     },
     "execution_count": 57,
     "metadata": {},
     "output_type": "execute_result"
    }
   ],
   "source": [
    "n2016=[0]\n",
    "n2016.append(table_2016['customer_email'][table_2016[2016]!=0].count())\n",
    "n2016.append(table_2016['customer_email'][(table_2016[2016]!=0)&(table_2016[2017]!=0)].count())\n",
    "n2016"
   ]
  },
  {
   "cell_type": "code",
   "execution_count": 58,
   "id": "5e1d46b6",
   "metadata": {},
   "outputs": [],
   "source": [
    "users_churn=pd.DataFrame([n2015,n2016]).T"
   ]
  },
  {
   "cell_type": "code",
   "execution_count": 59,
   "id": "a0741414",
   "metadata": {},
   "outputs": [],
   "source": [
    "users_churn=users_churn.rename(columns={0:'2015_n_rentention',1:'2016_n_rentention'})"
   ]
  },
  {
   "cell_type": "code",
   "execution_count": 60,
   "id": "e21eef46",
   "metadata": {
    "scrolled": true
   },
   "outputs": [],
   "source": [
    "users_churn['2015_loss_n']=users_churn['2015_n_rentention']-users_churn['2015_n_rentention'].shift(1)"
   ]
  },
  {
   "cell_type": "code",
   "execution_count": 61,
   "id": "c903c131",
   "metadata": {
    "scrolled": true
   },
   "outputs": [],
   "source": [
    "users_churn['2016_loss_n']=users_churn['2016_n_rentention']-users_churn['2016_n_rentention'].shift(1)"
   ]
  },
  {
   "cell_type": "code",
   "execution_count": 62,
   "id": "d5e95250",
   "metadata": {},
   "outputs": [],
   "source": [
    "users_churn['2016_loss_n']=np.where(users_churn['2016_loss_n']>0,0,users_churn['2016_loss_n'])"
   ]
  },
  {
   "cell_type": "code",
   "execution_count": 63,
   "id": "718c182e",
   "metadata": {
    "scrolled": false
   },
   "outputs": [
    {
     "data": {
      "text/html": [
       "<div>\n",
       "<style scoped>\n",
       "    .dataframe tbody tr th:only-of-type {\n",
       "        vertical-align: middle;\n",
       "    }\n",
       "\n",
       "    .dataframe tbody tr th {\n",
       "        vertical-align: top;\n",
       "    }\n",
       "\n",
       "    .dataframe thead th {\n",
       "        text-align: right;\n",
       "    }\n",
       "</style>\n",
       "<table border=\"1\" class=\"dataframe\">\n",
       "  <thead>\n",
       "    <tr style=\"text-align: right;\">\n",
       "      <th></th>\n",
       "      <th>2015_n_rentention</th>\n",
       "      <th>2016_n_rentention</th>\n",
       "      <th>2015_loss_n</th>\n",
       "      <th>2016_loss_n</th>\n",
       "    </tr>\n",
       "  </thead>\n",
       "  <tbody>\n",
       "    <tr>\n",
       "      <th>0</th>\n",
       "      <td>231294</td>\n",
       "      <td>0</td>\n",
       "      <td>NaN</td>\n",
       "      <td>NaN</td>\n",
       "    </tr>\n",
       "    <tr>\n",
       "      <th>1</th>\n",
       "      <td>59584</td>\n",
       "      <td>145062</td>\n",
       "      <td>-171710.0</td>\n",
       "      <td>0.0</td>\n",
       "    </tr>\n",
       "    <tr>\n",
       "      <th>2</th>\n",
       "      <td>6928</td>\n",
       "      <td>14797</td>\n",
       "      <td>-52656.0</td>\n",
       "      <td>-130265.0</td>\n",
       "    </tr>\n",
       "  </tbody>\n",
       "</table>\n",
       "</div>"
      ],
      "text/plain": [
       "   2015_n_rentention  2016_n_rentention  2015_loss_n  2016_loss_n\n",
       "0             231294                  0          NaN          NaN\n",
       "1              59584             145062    -171710.0          0.0\n",
       "2               6928              14797     -52656.0    -130265.0"
      ]
     },
     "execution_count": 63,
     "metadata": {},
     "output_type": "execute_result"
    }
   ],
   "source": [
    "users_churn"
   ]
  },
  {
   "cell_type": "code",
   "execution_count": 72,
   "id": "a2aa3543",
   "metadata": {},
   "outputs": [],
   "source": [
    "## Rentention rate\n",
    "users_churn['2015_r_rate']=(users_churn['2015_n_rentention']/231294).round(4)\n",
    "users_churn['2016_r_rate']=(users_churn['2016_n_rentention']/145062).round(4)"
   ]
  },
  {
   "cell_type": "code",
   "execution_count": 73,
   "id": "740c84e7",
   "metadata": {},
   "outputs": [],
   "source": [
    "## Churn rate\n",
    "users_churn['2015_l_rate']=(1-users_churn['2015_r_rate']).round(4)\n",
    "users_churn['2016_l_rate']=np.where((1-users_churn['2016_r_rate'])<1,(1-users_churn['2016_r_rate']).round(4),0)"
   ]
  },
  {
   "cell_type": "code",
   "execution_count": 74,
   "id": "76303729",
   "metadata": {},
   "outputs": [
    {
     "data": {
      "text/html": [
       "<div>\n",
       "<style scoped>\n",
       "    .dataframe tbody tr th:only-of-type {\n",
       "        vertical-align: middle;\n",
       "    }\n",
       "\n",
       "    .dataframe tbody tr th {\n",
       "        vertical-align: top;\n",
       "    }\n",
       "\n",
       "    .dataframe thead th {\n",
       "        text-align: right;\n",
       "    }\n",
       "</style>\n",
       "<table border=\"1\" class=\"dataframe\">\n",
       "  <thead>\n",
       "    <tr style=\"text-align: right;\">\n",
       "      <th></th>\n",
       "      <th>2015_n_rentention</th>\n",
       "      <th>2016_n_rentention</th>\n",
       "      <th>2015_loss_n</th>\n",
       "      <th>2016_loss_n</th>\n",
       "      <th>2015_r_rate</th>\n",
       "      <th>2016_r_rate</th>\n",
       "      <th>2015_l_rate</th>\n",
       "      <th>2016_l_rate</th>\n",
       "    </tr>\n",
       "  </thead>\n",
       "  <tbody>\n",
       "    <tr>\n",
       "      <th>0</th>\n",
       "      <td>231294</td>\n",
       "      <td>0</td>\n",
       "      <td>0.0</td>\n",
       "      <td>0.0</td>\n",
       "      <td>1.0000</td>\n",
       "      <td>0.000</td>\n",
       "      <td>0.0000</td>\n",
       "      <td>0.000</td>\n",
       "    </tr>\n",
       "    <tr>\n",
       "      <th>1</th>\n",
       "      <td>59584</td>\n",
       "      <td>145062</td>\n",
       "      <td>-171710.0</td>\n",
       "      <td>0.0</td>\n",
       "      <td>0.2576</td>\n",
       "      <td>1.000</td>\n",
       "      <td>0.7424</td>\n",
       "      <td>0.000</td>\n",
       "    </tr>\n",
       "    <tr>\n",
       "      <th>2</th>\n",
       "      <td>6928</td>\n",
       "      <td>14797</td>\n",
       "      <td>-52656.0</td>\n",
       "      <td>-130265.0</td>\n",
       "      <td>0.0300</td>\n",
       "      <td>0.102</td>\n",
       "      <td>0.9700</td>\n",
       "      <td>0.898</td>\n",
       "    </tr>\n",
       "  </tbody>\n",
       "</table>\n",
       "</div>"
      ],
      "text/plain": [
       "   2015_n_rentention  2016_n_rentention  2015_loss_n  2016_loss_n  \\\n",
       "0             231294                  0          0.0          0.0   \n",
       "1              59584             145062    -171710.0          0.0   \n",
       "2               6928              14797     -52656.0    -130265.0   \n",
       "\n",
       "   2015_r_rate  2016_r_rate  2015_l_rate  2016_l_rate  \n",
       "0       1.0000        0.000       0.0000        0.000  \n",
       "1       0.2576        1.000       0.7424        0.000  \n",
       "2       0.0300        0.102       0.9700        0.898  "
      ]
     },
     "execution_count": 74,
     "metadata": {},
     "output_type": "execute_result"
    }
   ],
   "source": [
    "users_churn.fillna(0)"
   ]
  },
  {
   "cell_type": "code",
   "execution_count": 75,
   "id": "bab1cbee",
   "metadata": {},
   "outputs": [
    {
     "data": {
      "image/png": "[encoded data removed]",
      "text/plain": [
       "<Figure size 720x360 with 2 Axes>"
      ]
     },
     "metadata": {
      "needs_background": "light"
     },
     "output_type": "display_data"
    }
   ],
   "source": [
    "fig, ax= plt.subplots(figsize = (10, 5))\n",
    "tick_label=['2015','2016','2017']\n",
    "x1=np.arange(3)\n",
    "x2=np.arange(1,3)\n",
    "y1=users_churn['2015_n_rentention'].values\n",
    "y2=[145062,14797]\n",
    "y3=users_churn['2015_r_rate'].values\n",
    "y4=[1.000000,0.102005]\n",
    "ax2 = ax.twinx()\n",
    "width=0.8/3\n",
    "rect5=ax.bar(x,y1,width=width,label='2015')\n",
    "ax2.plot(x,y3,label='2015',linestyle='--')\n",
    "rect6=ax.bar(x2+0.25,y2,width=width,label='2016')\n",
    "ax2.plot(x2+0.25,y4,label='2016',linestyle='--')\n",
    "autolabel(rect5)\n",
    "autolabel(rect6)\n",
    "plt.legend()\n",
    "plt.xlabel(\"Year\")\n",
    "plt.title(\"Users Retention\")\n",
    "plt.show()"
   ]
  },
  {
   "cell_type": "markdown",
   "id": "439162b4",
   "metadata": {},
   "source": [
    "## Revenues"
   ]
  },
  {
   "cell_type": "code",
   "execution_count": 77,
   "id": "5a32d7a4",
   "metadata": {},
   "outputs": [],
   "source": [
    "revenues_attrition=pd.DataFrame([y2015,y2016])"
   ]
  },
  {
   "cell_type": "code",
   "execution_count": 78,
   "id": "7cc4b24c",
   "metadata": {
    "scrolled": true
   },
   "outputs": [],
   "source": [
    "revenues_attrition=revenues_attrition.T"
   ]
  },
  {
   "cell_type": "code",
   "execution_count": 79,
   "id": "dfeb24f2",
   "metadata": {
    "scrolled": true
   },
   "outputs": [],
   "source": [
    "revenues_attrition['year']=[2015,2016,2017]\n",
    "revenues_attrition=revenues_attrition.set_index('year')"
   ]
  },
  {
   "cell_type": "code",
   "execution_count": 80,
   "id": "8a30fdb2",
   "metadata": {},
   "outputs": [],
   "source": [
    "revenues_attrition=revenues_attrition.rename(columns={0:'2015_r',1:'2016_r'})"
   ]
  },
  {
   "cell_type": "code",
   "execution_count": 81,
   "id": "27a7ed0f",
   "metadata": {},
   "outputs": [],
   "source": [
    "revenues_attrition['2015_r_loss']=revenues_attrition['2015_r']-revenues_attrition['2015_r'].shift(1)"
   ]
  },
  {
   "cell_type": "code",
   "execution_count": 84,
   "id": "35cf23d5",
   "metadata": {},
   "outputs": [],
   "source": [
    "revenues_attrition['2016_r_loss']=revenues_attrition['2016_r']-revenues_attrition['2016_r'].shift(1)"
   ]
  },
  {
   "cell_type": "code",
   "execution_count": 85,
   "id": "20d2df7e",
   "metadata": {},
   "outputs": [],
   "source": [
    "revenues_attrition=revenues_attrition.fillna(0)"
   ]
  },
  {
   "cell_type": "code",
   "execution_count": 86,
   "id": "2886e62a",
   "metadata": {
    "scrolled": false
   },
   "outputs": [],
   "source": [
    "revenues_attrition['total_loss']=revenues_attrition['2015_r_loss']+revenues_attrition['2016_r_loss']"
   ]
  },
  {
   "cell_type": "code",
   "execution_count": 87,
   "id": "4d28f719",
   "metadata": {
    "scrolled": true
   },
   "outputs": [],
   "source": [
    "revenues_attrition=revenues_attrition.fillna(0)"
   ]
  },
  {
   "cell_type": "code",
   "execution_count": 88,
   "id": "60ed07b7",
   "metadata": {},
   "outputs": [],
   "source": [
    "revenues_attrition['2015_p']=revenues_attrition['2015_r']/29036749.19\n",
    "revenues_attrition['2016_p']=revenues_attrition['2016_r']/18245491.01"
   ]
  },
  {
   "cell_type": "code",
   "execution_count": 89,
   "id": "ac218258",
   "metadata": {},
   "outputs": [
    {
     "data": {
      "text/html": [
       "<div>\n",
       "<style scoped>\n",
       "    .dataframe tbody tr th:only-of-type {\n",
       "        vertical-align: middle;\n",
       "    }\n",
       "\n",
       "    .dataframe tbody tr th {\n",
       "        vertical-align: top;\n",
       "    }\n",
       "\n",
       "    .dataframe thead th {\n",
       "        text-align: right;\n",
       "    }\n",
       "</style>\n",
       "<table border=\"1\" class=\"dataframe\">\n",
       "  <thead>\n",
       "    <tr style=\"text-align: right;\">\n",
       "      <th></th>\n",
       "      <th>2015_r</th>\n",
       "      <th>2016_r</th>\n",
       "      <th>2015_r_loss</th>\n",
       "      <th>2016_r_loss</th>\n",
       "      <th>total_loss</th>\n",
       "      <th>2015_p</th>\n",
       "      <th>2016_p</th>\n",
       "    </tr>\n",
       "    <tr>\n",
       "      <th>year</th>\n",
       "      <th></th>\n",
       "      <th></th>\n",
       "      <th></th>\n",
       "      <th></th>\n",
       "      <th></th>\n",
       "      <th></th>\n",
       "      <th></th>\n",
       "    </tr>\n",
       "  </thead>\n",
       "  <tbody>\n",
       "    <tr>\n",
       "      <th>2015</th>\n",
       "      <td>29036749.19</td>\n",
       "      <td>0.00</td>\n",
       "      <td>0.00</td>\n",
       "      <td>0.00</td>\n",
       "      <td>0.0</td>\n",
       "      <td>1.000000</td>\n",
       "      <td>0.000000</td>\n",
       "    </tr>\n",
       "    <tr>\n",
       "      <th>2016</th>\n",
       "      <td>7485452.58</td>\n",
       "      <td>18245491.01</td>\n",
       "      <td>-21551296.61</td>\n",
       "      <td>18245491.01</td>\n",
       "      <td>-3305805.6</td>\n",
       "      <td>0.257792</td>\n",
       "      <td>1.000000</td>\n",
       "    </tr>\n",
       "    <tr>\n",
       "      <th>2017</th>\n",
       "      <td>864015.13</td>\n",
       "      <td>1876872.26</td>\n",
       "      <td>-6621437.45</td>\n",
       "      <td>-16368618.75</td>\n",
       "      <td>-22990056.2</td>\n",
       "      <td>0.029756</td>\n",
       "      <td>0.102868</td>\n",
       "    </tr>\n",
       "  </tbody>\n",
       "</table>\n",
       "</div>"
      ],
      "text/plain": [
       "           2015_r       2016_r  2015_r_loss  2016_r_loss  total_loss  \\\n",
       "year                                                                   \n",
       "2015  29036749.19         0.00         0.00         0.00         0.0   \n",
       "2016   7485452.58  18245491.01 -21551296.61  18245491.01  -3305805.6   \n",
       "2017    864015.13   1876872.26  -6621437.45 -16368618.75 -22990056.2   \n",
       "\n",
       "        2015_p    2016_p  \n",
       "year                      \n",
       "2015  1.000000  0.000000  \n",
       "2016  0.257792  1.000000  \n",
       "2017  0.029756  0.102868  "
      ]
     },
     "execution_count": 89,
     "metadata": {},
     "output_type": "execute_result"
    }
   ],
   "source": [
    "revenues_attrition"
   ]
  },
  {
   "cell_type": "code",
   "execution_count": 91,
   "id": "93b1f278",
   "metadata": {},
   "outputs": [
    {
     "data": {
      "image/png": "[encoded data removed]",
      "text/plain": [
       "<Figure size 720x360 with 2 Axes>"
      ]
     },
     "metadata": {
      "needs_background": "light"
     },
     "output_type": "display_data"
    }
   ],
   "source": [
    "fig, ax= plt.subplots(figsize = (10, 5))\n",
    "tick_label=['2015','2016','2017']\n",
    "y1=revenues_attrition['2015_r'].values\n",
    "y2=revenues_attrition['2016_r'].values\n",
    "y3=[1,0.257792,0.029756]\n",
    "y4=[1,0.102868]\n",
    "x=np.arange(3)\n",
    "x2=np.arange(1,3)\n",
    "width=0.8/3\n",
    "rect7=ax.bar(x,y1,width=width,label='2015')\n",
    "rect8=ax.bar(x+0.25,y2,width=width,label='2016')\n",
    "ax2 = ax.twinx()\n",
    "ax2.plot(x,y3,label='2015',linestyle='--')\n",
    "ax2.plot(x2+0.25,y4,label='2016',linestyle='--')\n",
    "autolabel(rect7)\n",
    "autolabel(rect8)\n",
    "plt.legend()\n",
    "plt.xlabel(\"Year\")\n",
    "plt.title(\"Revenues Retention\")\n",
    "plt.show()"
   ]
  },
  {
   "cell_type": "code",
   "execution_count": 92,
   "id": "26d75307",
   "metadata": {
    "scrolled": false
   },
   "outputs": [
    {
     "data": {
      "text/html": [
       "<div>\n",
       "<style scoped>\n",
       "    .dataframe tbody tr th:only-of-type {\n",
       "        vertical-align: middle;\n",
       "    }\n",
       "\n",
       "    .dataframe tbody tr th {\n",
       "        vertical-align: top;\n",
       "    }\n",
       "\n",
       "    .dataframe thead th {\n",
       "        text-align: right;\n",
       "    }\n",
       "</style>\n",
       "<table border=\"1\" class=\"dataframe\">\n",
       "  <thead>\n",
       "    <tr style=\"text-align: right;\">\n",
       "      <th></th>\n",
       "      <th>total_loss</th>\n",
       "    </tr>\n",
       "    <tr>\n",
       "      <th>year</th>\n",
       "      <th></th>\n",
       "    </tr>\n",
       "  </thead>\n",
       "  <tbody>\n",
       "    <tr>\n",
       "      <th>2015</th>\n",
       "      <td>0.0</td>\n",
       "    </tr>\n",
       "    <tr>\n",
       "      <th>2016</th>\n",
       "      <td>-3305805.6</td>\n",
       "    </tr>\n",
       "    <tr>\n",
       "      <th>2017</th>\n",
       "      <td>-22990056.2</td>\n",
       "    </tr>\n",
       "  </tbody>\n",
       "</table>\n",
       "</div>"
      ],
      "text/plain": [
       "      total_loss\n",
       "year            \n",
       "2015         0.0\n",
       "2016  -3305805.6\n",
       "2017 -22990056.2"
      ]
     },
     "execution_count": 92,
     "metadata": {},
     "output_type": "execute_result"
    }
   ],
   "source": [
    "revenues_attrition[['total_loss']]"
   ]
  },
  {
   "cell_type": "markdown",
   "id": "603d8ad5",
   "metadata": {},
   "source": [
    "## Observations:\n",
    "- (1) The business went down from 2015 to 2016 and went up from 2016 to 2017\n",
    "- (2) The rentention rate is so low from year to year(Only 3% users from 2015 rentent to 2017,only 10% users from 2016 to 2017), the customers' life value is short.\n",
    "- (3) The prices per users haven't change much over time(around 125 for three years). It shows that the price does not appreciate.\n",
    "- (4) The increasing number of new-users can make up for the loss from old-customers.In 2016, 70% of revenues and users comes from new user while in 2017, more than 90% of revenues and users comes from new user. It shows that the products is getting harder to remain users.\n"
   ]
  },
  {
   "cell_type": "code",
   "execution_count": null,
   "id": "138f168b",
   "metadata": {},
   "outputs": [],
   "source": []
  }
 ],
 "metadata": {
  "kernelspec": {
   "display_name": "Python 3",
   "language": "python",
   "name": "python3"
  },
  "language_info": {
   "codemirror_mode": {
    "name": "ipython",
    "version": 3
   },
   "file_extension": ".py",
   "mimetype": "text/x-python",
   "name": "python",
   "nbconvert_exporter": "python",
   "pygments_lexer": "ipython3",
   "version": "3.8.10"
  }
 },
 "nbformat": 4,
 "nbformat_minor": 5
}
